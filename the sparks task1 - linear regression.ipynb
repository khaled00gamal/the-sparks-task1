{
 "cells": [
  {
   "cell_type": "markdown",
   "id": "21e94d51",
   "metadata": {},
   "source": [
    "# author:khaled gamal abdulrahman\n",
    "**this is a simple linear regression task as it only involves two variables"
   ]
  },
  {
   "cell_type": "markdown",
   "id": "5013d368",
   "metadata": {},
   "source": [
    "# importing libraries:"
   ]
  },
  {
   "cell_type": "code",
   "execution_count": 3,
   "id": "0aa050f1",
   "metadata": {},
   "outputs": [],
   "source": [
    "import pandas as pd\n",
    "import numpy as np\n",
    "import matplotlib.pyplot as plt"
   ]
  },
  {
   "cell_type": "markdown",
   "id": "6cc40005",
   "metadata": {},
   "source": [
    "# exploring data:"
   ]
  },
  {
   "cell_type": "code",
   "execution_count": 14,
   "id": "071548ea",
   "metadata": {},
   "outputs": [
    {
     "data": {
      "text/plain": [
       "<matplotlib.collections.PathCollection at 0x17c89c3b820>"
      ]
     },
     "execution_count": 14,
     "metadata": {},
     "output_type": "execute_result"
    },
    {
     "data": {
      "image/png": "[encoded data removed]",
      "text/plain": [
       "<Figure size 432x288 with 1 Axes>"
      ]
     },
     "metadata": {
      "needs_background": "light"
     },
     "output_type": "display_data"
    }
   ],
   "source": [
    "url=\"http://bit.ly/w-data\"\n",
    "df=pd.read_csv(url) \n",
    "df.head(7)\n",
    "x=df['Hours'].values.reshape(-1,1)\n",
    "y=df['Scores'].values.reshape(-1,1)\n",
    "plt.scatter(x,y)"
   ]
  },
  {
   "cell_type": "markdown",
   "id": "5cd7f377",
   "metadata": {},
   "source": [
    "# split data: "
   ]
  },
  {
   "cell_type": "code",
   "execution_count": 5,
   "id": "48f7324f",
   "metadata": {},
   "outputs": [],
   "source": [
    "from sklearn.model_selection import train_test_split\n",
    "X_train,X_test,Y_train,Y_test = train_test_split(x,y,test_size=0.2,random_state=0)"
   ]
  },
  {
   "cell_type": "markdown",
   "id": "afdfbe9b",
   "metadata": {},
   "source": [
    "# training:"
   ]
  },
  {
   "cell_type": "code",
   "execution_count": 7,
   "id": "0c0f0c32",
   "metadata": {},
   "outputs": [],
   "source": [
    "from sklearn.linear_model import LinearRegression\n",
    "model= LinearRegression().fit(X_train,Y_train)"
   ]
  },
  {
   "cell_type": "markdown",
   "id": "481e6fbf",
   "metadata": {},
   "source": [
    "# evaluation:"
   ]
  },
  {
   "cell_type": "code",
   "execution_count": 8,
   "id": "d33687d0",
   "metadata": {},
   "outputs": [
    {
     "name": "stdout",
     "output_type": "stream",
     "text": [
      "accuracy: 0.9454906892105356\n",
      "mean absolute error: 4.183859899002975\n"
     ]
    }
   ],
   "source": [
    "from sklearn import metrics\n",
    "\n",
    "accuracy=model.score(X_test,Y_test)\n",
    "print(\"accuracy:\",accuracy)\n",
    "\n",
    "Y_pred=model.predict(X_test)\n",
    "print(\"mean absolute error:\",metrics.mean_absolute_error(Y_test,Y_pred))"
   ]
  },
  {
   "cell_type": "code",
   "execution_count": 10,
   "id": "ab4b967c",
   "metadata": {},
   "outputs": [
    {
     "data": {
      "text/plain": [
       "[<matplotlib.lines.Line2D at 0x17c89adcfa0>]"
      ]
     },
     "execution_count": 10,
     "metadata": {},
     "output_type": "execute_result"
    },
    {
     "data": {
      "image/png": "[encoded data removed]",
      "text/plain": [
       "<Figure size 432x288 with 1 Axes>"
      ]
     },
     "metadata": {
      "needs_background": "light"
     },
     "output_type": "display_data"
    }
   ],
   "source": [
    "plt.scatter(x,y)\n",
    "plt.plot(x,model.predict(x),color=\"red\")"
   ]
  },
  {
   "cell_type": "markdown",
   "id": "cd67f3b7",
   "metadata": {},
   "source": [
    "# if student studied for 9.25 hours:"
   ]
  },
  {
   "cell_type": "code",
   "execution_count": 11,
   "id": "69c688fb",
   "metadata": {},
   "outputs": [
    {
     "data": {
      "text/plain": [
       "array([[93.69173249]])"
      ]
     },
     "execution_count": 11,
     "metadata": {},
     "output_type": "execute_result"
    }
   ],
   "source": [
    "model.predict(np.array([[9.25]]))"
   ]
  }
 ],
 "metadata": {
  "kernelspec": {
   "display_name": "Python 3 (ipykernel)",
   "language": "python",
   "name": "python3"
  },
  "language_info": {
   "codemirror_mode": {
    "name": "ipython",
    "version": 3
   },
   "file_extension": ".py",
   "mimetype": "text/x-python",
   "name": "python",
   "nbconvert_exporter": "python",
   "pygments_lexer": "ipython3",
   "version": "3.9.7"
  }
 },
 "nbformat": 4,
 "nbformat_minor": 5
}
